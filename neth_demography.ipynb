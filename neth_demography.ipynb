{
 "cells": [
  {
   "cell_type": "markdown",
   "id": "6b7cc1ea-4f32-41c7-a50a-3d8999cd94c6",
   "metadata": {},
   "source": [
    "# Demographic Trends in the Netherlands"
   ]
  },
  {
   "cell_type": "markdown",
   "id": "44462a4c-cd10-4542-a482-eb514537485c",
   "metadata": {},
   "source": [
    "## 1 Imports and Loads"
   ]
  },
  {
   "cell_type": "code",
   "execution_count": 3,
   "id": "f46a6cd0-ec78-40c0-97a2-3c215e54cc2d",
   "metadata": {},
   "outputs": [],
   "source": [
    "import pandas as pd\n",
    "import numpy as np\n",
    "import matplotlib.pyplot as plt\n",
    "import matplotlib.ticker as ticker\n",
    "import plotly.express as px\n",
    "import plotly.graph_objects as go\n",
    "from plotly.subplots import make_subplots"
   ]
  },
  {
   "cell_type": "markdown",
   "id": "830ad658-de89-4a72-9768-f8f128543d29",
   "metadata": {},
   "source": [
    "#### Load Data"
   ]
  },
  {
   "cell_type": "code",
   "execution_count": 5,
   "id": "6b2aa02e-ad36-412c-82b7-fca50936e47b",
   "metadata": {},
   "outputs": [
    {
     "data": {
      "text/html": [
       "<div>\n",
       "<style scoped>\n",
       "    .dataframe tbody tr th:only-of-type {\n",
       "        vertical-align: middle;\n",
       "    }\n",
       "\n",
       "    .dataframe tbody tr th {\n",
       "        vertical-align: top;\n",
       "    }\n",
       "\n",
       "    .dataframe thead th {\n",
       "        text-align: right;\n",
       "    }\n",
       "</style>\n",
       "<table border=\"1\" class=\"dataframe\">\n",
       "  <thead>\n",
       "    <tr style=\"text-align: right;\">\n",
       "      <th></th>\n",
       "      <th>Key</th>\n",
       "      <th>Title</th>\n",
       "    </tr>\n",
       "  </thead>\n",
       "  <tbody>\n",
       "    <tr>\n",
       "      <th>0</th>\n",
       "      <td>NL01</td>\n",
       "      <td>Nederland</td>\n",
       "    </tr>\n",
       "    <tr>\n",
       "      <th>1</th>\n",
       "      <td>LD01</td>\n",
       "      <td>Northern Netherlands (LD)</td>\n",
       "    </tr>\n",
       "    <tr>\n",
       "      <th>2</th>\n",
       "      <td>LD02</td>\n",
       "      <td>Oost-Nederland (LD)</td>\n",
       "    </tr>\n",
       "    <tr>\n",
       "      <th>3</th>\n",
       "      <td>LD03</td>\n",
       "      <td>West-Nederland (LD)</td>\n",
       "    </tr>\n",
       "    <tr>\n",
       "      <th>4</th>\n",
       "      <td>LD04</td>\n",
       "      <td>Zuid-Nederland (LD)</td>\n",
       "    </tr>\n",
       "  </tbody>\n",
       "</table>\n",
       "</div>"
      ],
      "text/plain": [
       "      Key                      Title\n",
       "0  NL01                    Nederland\n",
       "1  LD01    Northern Netherlands (LD)\n",
       "2  LD02          Oost-Nederland (LD)\n",
       "3  LD03          West-Nederland (LD)\n",
       "4  LD04          Zuid-Nederland (LD)"
      ]
     },
     "execution_count": 5,
     "metadata": {},
     "output_type": "execute_result"
    }
   ],
   "source": [
    "df_reg_codes = pd.read_csv(\"regions.csv\")\n",
    "df_reg_codes.head()"
   ]
  },
  {
   "cell_type": "code",
   "execution_count": 6,
   "id": "271caef2-1788-47fe-af0f-12c2fcd83bd1",
   "metadata": {},
   "outputs": [
    {
     "data": {
      "text/html": [
       "<div>\n",
       "<style scoped>\n",
       "    .dataframe tbody tr th:only-of-type {\n",
       "        vertical-align: middle;\n",
       "    }\n",
       "\n",
       "    .dataframe tbody tr th {\n",
       "        vertical-align: top;\n",
       "    }\n",
       "\n",
       "    .dataframe thead th {\n",
       "        text-align: right;\n",
       "    }\n",
       "</style>\n",
       "<table border=\"1\" class=\"dataframe\">\n",
       "  <thead>\n",
       "    <tr style=\"text-align: right;\">\n",
       "      <th></th>\n",
       "      <th>Key</th>\n",
       "      <th>Title</th>\n",
       "      <th>Description</th>\n",
       "    </tr>\n",
       "  </thead>\n",
       "  <tbody>\n",
       "    <tr>\n",
       "      <th>0</th>\n",
       "      <td>T001100</td>\n",
       "      <td>Total</td>\n",
       "      <td>Single-family homes and multi-family homes total</td>\n",
       "    </tr>\n",
       "    <tr>\n",
       "      <th>1</th>\n",
       "      <td>ZW10290</td>\n",
       "      <td>Single-family home</td>\n",
       "      <td>Any dwelling that also forms a whole building....</td>\n",
       "    </tr>\n",
       "    <tr>\n",
       "      <th>2</th>\n",
       "      <td>ZW10340</td>\n",
       "      <td>Multi-family dwelling</td>\n",
       "      <td>Any dwelling that together with other living s...</td>\n",
       "    </tr>\n",
       "  </tbody>\n",
       "</table>\n",
       "</div>"
      ],
      "text/plain": [
       "       Key                  Title  \\\n",
       "0  T001100                  Total   \n",
       "1  ZW10290     Single-family home   \n",
       "2  ZW10340  Multi-family dwelling   \n",
       "\n",
       "                                         Description  \n",
       "0   Single-family homes and multi-family homes total  \n",
       "1  Any dwelling that also forms a whole building....  \n",
       "2  Any dwelling that together with other living s...  "
      ]
     },
     "execution_count": 6,
     "metadata": {},
     "output_type": "execute_result"
    }
   ],
   "source": [
    "df_housetype = pd.read_csv(\"house_type.csv\")\n",
    "df_housetype"
   ]
  },
  {
   "cell_type": "code",
   "execution_count": 7,
   "id": "88f2e16d-2322-40dd-8fea-7c84ab87233b",
   "metadata": {},
   "outputs": [
    {
     "name": "stdout",
     "output_type": "stream",
     "text": [
      "(663, 4)\n"
     ]
    },
    {
     "data": {
      "text/html": [
       "<div>\n",
       "<style scoped>\n",
       "    .dataframe tbody tr th:only-of-type {\n",
       "        vertical-align: middle;\n",
       "    }\n",
       "\n",
       "    .dataframe tbody tr th {\n",
       "        vertical-align: top;\n",
       "    }\n",
       "\n",
       "    .dataframe thead th {\n",
       "        text-align: right;\n",
       "    }\n",
       "</style>\n",
       "<table border=\"1\" class=\"dataframe\">\n",
       "  <thead>\n",
       "    <tr style=\"text-align: right;\">\n",
       "      <th></th>\n",
       "      <th>House type</th>\n",
       "      <th>Regions</th>\n",
       "      <th>Periods</th>\n",
       "      <th>Initial Housing Stock</th>\n",
       "    </tr>\n",
       "  </thead>\n",
       "  <tbody>\n",
       "    <tr>\n",
       "      <th>0</th>\n",
       "      <td>T001100</td>\n",
       "      <td>NL01</td>\n",
       "      <td>2012</td>\n",
       "      <td>7386743</td>\n",
       "    </tr>\n",
       "    <tr>\n",
       "      <th>1</th>\n",
       "      <td>T001100</td>\n",
       "      <td>NL01</td>\n",
       "      <td>2013</td>\n",
       "      <td>7449298</td>\n",
       "    </tr>\n",
       "    <tr>\n",
       "      <th>2</th>\n",
       "      <td>T001100</td>\n",
       "      <td>NL01</td>\n",
       "      <td>2014</td>\n",
       "      <td>7535316</td>\n",
       "    </tr>\n",
       "    <tr>\n",
       "      <th>3</th>\n",
       "      <td>T001100</td>\n",
       "      <td>NL01</td>\n",
       "      <td>2015</td>\n",
       "      <td>7587964</td>\n",
       "    </tr>\n",
       "    <tr>\n",
       "      <th>4</th>\n",
       "      <td>T001100</td>\n",
       "      <td>NL01</td>\n",
       "      <td>2016</td>\n",
       "      <td>7641323</td>\n",
       "    </tr>\n",
       "  </tbody>\n",
       "</table>\n",
       "</div>"
      ],
      "text/plain": [
       "  House type Regions  Periods  Initial Housing Stock\n",
       "0    T001100  NL01       2012                7386743\n",
       "1    T001100  NL01       2013                7449298\n",
       "2    T001100  NL01       2014                7535316\n",
       "3    T001100  NL01       2015                7587964\n",
       "4    T001100  NL01       2016                7641323"
      ]
     },
     "execution_count": 7,
     "metadata": {},
     "output_type": "execute_result"
    }
   ],
   "source": [
    "df_house_region = pd.read_csv(\"numbers_regions.csv\")\n",
    "print(df_house_region.shape)\n",
    "df_house_region.head()"
   ]
  },
  {
   "cell_type": "code",
   "execution_count": 8,
   "id": "67c8f393-c78c-490f-9868-b9310eb8fa1d",
   "metadata": {},
   "outputs": [
    {
     "data": {
      "text/html": [
       "<div>\n",
       "<style scoped>\n",
       "    .dataframe tbody tr th:only-of-type {\n",
       "        vertical-align: middle;\n",
       "    }\n",
       "\n",
       "    .dataframe tbody tr th {\n",
       "        vertical-align: top;\n",
       "    }\n",
       "\n",
       "    .dataframe thead th {\n",
       "        text-align: right;\n",
       "    }\n",
       "</style>\n",
       "<table border=\"1\" class=\"dataframe\">\n",
       "  <thead>\n",
       "    <tr style=\"text-align: right;\">\n",
       "      <th></th>\n",
       "      <th>Periods</th>\n",
       "      <th>PopulationAtStartOfSelectedPeriod_1</th>\n",
       "      <th>LiveBirths_2</th>\n",
       "      <th>Deaths_3</th>\n",
       "      <th>Immigration_4</th>\n",
       "      <th>EmigrationIncludingAdministrativeC_5</th>\n",
       "      <th>TotalPopulationGrowth_7</th>\n",
       "      <th>PopulationAtEndOfSelectedPeriod_8</th>\n",
       "    </tr>\n",
       "    <tr>\n",
       "      <th>ID</th>\n",
       "      <th></th>\n",
       "      <th></th>\n",
       "      <th></th>\n",
       "      <th></th>\n",
       "      <th></th>\n",
       "      <th></th>\n",
       "      <th></th>\n",
       "      <th></th>\n",
       "    </tr>\n",
       "  </thead>\n",
       "  <tbody>\n",
       "    <tr>\n",
       "      <th>0</th>\n",
       "      <td>1995MM01</td>\n",
       "      <td>15424122</td>\n",
       "      <td>16436</td>\n",
       "      <td>11974</td>\n",
       "      <td>8362</td>\n",
       "      <td>6768</td>\n",
       "      <td>6056</td>\n",
       "      <td>15430178</td>\n",
       "    </tr>\n",
       "    <tr>\n",
       "      <th>1</th>\n",
       "      <td>1995MM02</td>\n",
       "      <td>15430178</td>\n",
       "      <td>14824</td>\n",
       "      <td>10106</td>\n",
       "      <td>6621</td>\n",
       "      <td>5341</td>\n",
       "      <td>5998</td>\n",
       "      <td>15436176</td>\n",
       "    </tr>\n",
       "    <tr>\n",
       "      <th>2</th>\n",
       "      <td>1995MM03</td>\n",
       "      <td>15436176</td>\n",
       "      <td>16205</td>\n",
       "      <td>12069</td>\n",
       "      <td>7596</td>\n",
       "      <td>5988</td>\n",
       "      <td>5744</td>\n",
       "      <td>15441920</td>\n",
       "    </tr>\n",
       "    <tr>\n",
       "      <th>3</th>\n",
       "      <td>1995MM04</td>\n",
       "      <td>15441920</td>\n",
       "      <td>14906</td>\n",
       "      <td>11412</td>\n",
       "      <td>6288</td>\n",
       "      <td>5490</td>\n",
       "      <td>4292</td>\n",
       "      <td>15446212</td>\n",
       "    </tr>\n",
       "    <tr>\n",
       "      <th>4</th>\n",
       "      <td>1995MM05</td>\n",
       "      <td>15446212</td>\n",
       "      <td>16167</td>\n",
       "      <td>11180</td>\n",
       "      <td>6672</td>\n",
       "      <td>5501</td>\n",
       "      <td>6158</td>\n",
       "      <td>15452370</td>\n",
       "    </tr>\n",
       "  </tbody>\n",
       "</table>\n",
       "</div>"
      ],
      "text/plain": [
       "     Periods  PopulationAtStartOfSelectedPeriod_1  LiveBirths_2  Deaths_3  \\\n",
       "ID                                                                          \n",
       "0   1995MM01                             15424122         16436     11974   \n",
       "1   1995MM02                             15430178         14824     10106   \n",
       "2   1995MM03                             15436176         16205     12069   \n",
       "3   1995MM04                             15441920         14906     11412   \n",
       "4   1995MM05                             15446212         16167     11180   \n",
       "\n",
       "    Immigration_4  EmigrationIncludingAdministrativeC_5  \\\n",
       "ID                                                        \n",
       "0            8362                                  6768   \n",
       "1            6621                                  5341   \n",
       "2            7596                                  5988   \n",
       "3            6288                                  5490   \n",
       "4            6672                                  5501   \n",
       "\n",
       "    TotalPopulationGrowth_7  PopulationAtEndOfSelectedPeriod_8  \n",
       "ID                                                              \n",
       "0                      6056                           15430178  \n",
       "1                      5998                           15436176  \n",
       "2                      5744                           15441920  \n",
       "3                      4292                           15446212  \n",
       "4                      6158                           15452370  "
      ]
     },
     "execution_count": 8,
     "metadata": {},
     "output_type": "execute_result"
    }
   ],
   "source": [
    "df_population = pd.read_csv(\"population.csv\", index_col = \"ID\")\n",
    "df_population.head()"
   ]
  },
  {
   "cell_type": "markdown",
   "id": "39971a5d-6ead-479d-b519-0ae0e7df4cd0",
   "metadata": {},
   "source": [
    "## 2 Data Cleaning"
   ]
  },
  {
   "cell_type": "code",
   "execution_count": 10,
   "id": "0227f16f-45e8-4cc6-b983-832e76eded9e",
   "metadata": {},
   "outputs": [],
   "source": [
    "#Strip spaces from object columns:\n",
    "def strip_spaces(df):\n",
    "    for column in df.columns:\n",
    "        if df[column].dtype == \"object\":\n",
    "            df[column] = df[column].str.strip()\n",
    "    return df\n",
    "\n",
    "#Convert:\n",
    "df_reg_codes = strip_spaces(df_reg_codes)\n",
    "df_housetype = strip_spaces(df_housetype)\n",
    "df_house_region = strip_spaces(df_house_region)\n",
    "df_population = strip_spaces(df_population)"
   ]
  },
  {
   "cell_type": "code",
   "execution_count": 11,
   "id": "fb0d2c49-3107-474b-b85c-a474b38b2e48",
   "metadata": {},
   "outputs": [
    {
     "name": "stdout",
     "output_type": "stream",
     "text": [
      "False\n",
      "False\n",
      "False\n",
      "False\n"
     ]
    }
   ],
   "source": [
    "#Are there NaN values:\n",
    "print(df_reg_codes.isna().values.any())\n",
    "print(df_housetype.isna().values.any())\n",
    "print(df_house_region.isna().values.any())\n",
    "print(df_population.isna().values.any())"
   ]
  },
  {
   "cell_type": "markdown",
   "id": "a51917ca-fcc9-4762-826e-0a48ec7578b2",
   "metadata": {},
   "source": [
    "## 3 Create Tables"
   ]
  },
  {
   "cell_type": "code",
   "execution_count": 13,
   "id": "f1b335a2-05dc-40a3-9f0c-139341ae1fdf",
   "metadata": {},
   "outputs": [
    {
     "data": {
      "text/html": [
       "<div>\n",
       "<style scoped>\n",
       "    .dataframe tbody tr th:only-of-type {\n",
       "        vertical-align: middle;\n",
       "    }\n",
       "\n",
       "    .dataframe tbody tr th {\n",
       "        vertical-align: top;\n",
       "    }\n",
       "\n",
       "    .dataframe thead th {\n",
       "        text-align: right;\n",
       "    }\n",
       "</style>\n",
       "<table border=\"1\" class=\"dataframe\">\n",
       "  <thead>\n",
       "    <tr style=\"text-align: right;\">\n",
       "      <th></th>\n",
       "      <th>Year</th>\n",
       "      <th>Number of Houses</th>\n",
       "      <th>Region</th>\n",
       "      <th>House Type</th>\n",
       "      <th>House Desription</th>\n",
       "    </tr>\n",
       "  </thead>\n",
       "  <tbody>\n",
       "    <tr>\n",
       "      <th>0</th>\n",
       "      <td>2012</td>\n",
       "      <td>7386743</td>\n",
       "      <td>Nederland</td>\n",
       "      <td>Total</td>\n",
       "      <td>Single-family homes and multi-family homes total</td>\n",
       "    </tr>\n",
       "    <tr>\n",
       "      <th>1</th>\n",
       "      <td>2013</td>\n",
       "      <td>7449298</td>\n",
       "      <td>Nederland</td>\n",
       "      <td>Total</td>\n",
       "      <td>Single-family homes and multi-family homes total</td>\n",
       "    </tr>\n",
       "    <tr>\n",
       "      <th>2</th>\n",
       "      <td>2014</td>\n",
       "      <td>7535316</td>\n",
       "      <td>Nederland</td>\n",
       "      <td>Total</td>\n",
       "      <td>Single-family homes and multi-family homes total</td>\n",
       "    </tr>\n",
       "    <tr>\n",
       "      <th>3</th>\n",
       "      <td>2015</td>\n",
       "      <td>7587964</td>\n",
       "      <td>Nederland</td>\n",
       "      <td>Total</td>\n",
       "      <td>Single-family homes and multi-family homes total</td>\n",
       "    </tr>\n",
       "    <tr>\n",
       "      <th>4</th>\n",
       "      <td>2016</td>\n",
       "      <td>7641323</td>\n",
       "      <td>Nederland</td>\n",
       "      <td>Total</td>\n",
       "      <td>Single-family homes and multi-family homes total</td>\n",
       "    </tr>\n",
       "  </tbody>\n",
       "</table>\n",
       "</div>"
      ],
      "text/plain": [
       "   Year  Number of Houses     Region House Type  \\\n",
       "0  2012           7386743  Nederland      Total   \n",
       "1  2013           7449298  Nederland      Total   \n",
       "2  2014           7535316  Nederland      Total   \n",
       "3  2015           7587964  Nederland      Total   \n",
       "4  2016           7641323  Nederland      Total   \n",
       "\n",
       "                                   House Desription  \n",
       "0  Single-family homes and multi-family homes total  \n",
       "1  Single-family homes and multi-family homes total  \n",
       "2  Single-family homes and multi-family homes total  \n",
       "3  Single-family homes and multi-family homes total  \n",
       "4  Single-family homes and multi-family homes total  "
      ]
     },
     "execution_count": 13,
     "metadata": {},
     "output_type": "execute_result"
    }
   ],
   "source": [
    "#Merge Tables\n",
    "COLUMN_NAMES = ({\"Periods\": \"Year\", \"Initial Housing Stock\": \"Number of Houses\", \"Title_x\": \"Region\", \n",
    "                \"Title_y\": \"House Type\", \"Description\": \"House Desription\"})\n",
    "\n",
    "df_merged = pd.merge(df_house_region, df_reg_codes, how = \"left\", left_on = \"Regions\", right_on = \"Key\")\n",
    "df_merged = pd.merge(df_merged , df_housetype, how = \"left\", left_on = \"House type\", right_on = \"Key\")\n",
    "df_merged = df_merged[[\"Periods\", \"Initial Housing Stock\", \"Title_x\", \"Title_y\", \"Description\"]].rename(columns = COLUMN_NAMES)\n",
    "df_merged.head()"
   ]
  },
  {
   "cell_type": "code",
   "execution_count": 14,
   "id": "d52ae149-141e-4c90-ab34-fe9c2656daea",
   "metadata": {},
   "outputs": [],
   "source": [
    "#Seperate Country and Region\n",
    "df_netherlands = df_merged[df_merged[\"Region\"] == \"Nederland\"]\n",
    "df_regions = df_merged.drop(df_netherlands.index)\n",
    "\n",
    "#df_netherlands = df_netherlands.reset_index(drop = True)\n",
    "df_regions = df_regions.reset_index(drop = True)"
   ]
  },
  {
   "cell_type": "code",
   "execution_count": 15,
   "id": "a10366b9-7a0a-4784-821d-d654314552ec",
   "metadata": {},
   "outputs": [],
   "source": [
    "#Seperate Total and Types\n",
    "#Country\n",
    "df_neth_total = df_netherlands[df_netherlands[\"House Type\"] == \"Total\"]\n",
    "df_neth_types = df_netherlands.drop(df_neth_total.index)\n",
    "\n",
    "df_neth_total = df_neth_total.reset_index(drop = True)\n",
    "df_neth_types = df_neth_types.reset_index(drop = True)\n",
    "#Region\n",
    "df_reg_total = df_regions[df_regions[\"House Type\"] == \"Total\"]\n",
    "df_reg_types = df_regions.drop(df_reg_total.index)\n",
    "\n",
    "df_reg_total = df_reg_total.reset_index(drop = True)\n",
    "df_reg_types = df_reg_types.reset_index(drop = True)"
   ]
  },
  {
   "cell_type": "code",
   "execution_count": 16,
   "id": "00e1229c-e0b7-4a6f-9725-8390cb5a4b92",
   "metadata": {},
   "outputs": [],
   "source": [
    "#Exclude 2024 from the data\n",
    "df_neth_total = df_neth_total.drop(df_neth_total.index[-1])\n",
    "df_neth_types = df_neth_types.drop(df_neth_types.index[-1])\n",
    "df_reg_total = df_reg_total.drop(df_reg_total.index[-1])\n",
    "df_reg_types = df_reg_types.drop(df_reg_types.index[-1])"
   ]
  },
  {
   "cell_type": "code",
   "execution_count": 17,
   "id": "2efbfd7a-a01f-4dbc-a6da-6d4d9480cb9e",
   "metadata": {},
   "outputs": [
    {
     "data": {
      "text/html": [
       "<div>\n",
       "<style scoped>\n",
       "    .dataframe tbody tr th:only-of-type {\n",
       "        vertical-align: middle;\n",
       "    }\n",
       "\n",
       "    .dataframe tbody tr th {\n",
       "        vertical-align: top;\n",
       "    }\n",
       "\n",
       "    .dataframe thead th {\n",
       "        text-align: right;\n",
       "    }\n",
       "</style>\n",
       "<table border=\"1\" class=\"dataframe\">\n",
       "  <thead>\n",
       "    <tr style=\"text-align: right;\">\n",
       "      <th></th>\n",
       "      <th>Year</th>\n",
       "      <th>Number of Houses</th>\n",
       "      <th>Region</th>\n",
       "      <th>House Type</th>\n",
       "      <th>House Desription</th>\n",
       "    </tr>\n",
       "  </thead>\n",
       "  <tbody>\n",
       "    <tr>\n",
       "      <th>0</th>\n",
       "      <td>2012</td>\n",
       "      <td>7386743</td>\n",
       "      <td>Nederland</td>\n",
       "      <td>Total</td>\n",
       "      <td>Single-family homes and multi-family homes total</td>\n",
       "    </tr>\n",
       "    <tr>\n",
       "      <th>1</th>\n",
       "      <td>2013</td>\n",
       "      <td>7449298</td>\n",
       "      <td>Nederland</td>\n",
       "      <td>Total</td>\n",
       "      <td>Single-family homes and multi-family homes total</td>\n",
       "    </tr>\n",
       "    <tr>\n",
       "      <th>2</th>\n",
       "      <td>2014</td>\n",
       "      <td>7535316</td>\n",
       "      <td>Nederland</td>\n",
       "      <td>Total</td>\n",
       "      <td>Single-family homes and multi-family homes total</td>\n",
       "    </tr>\n",
       "    <tr>\n",
       "      <th>3</th>\n",
       "      <td>2015</td>\n",
       "      <td>7587964</td>\n",
       "      <td>Nederland</td>\n",
       "      <td>Total</td>\n",
       "      <td>Single-family homes and multi-family homes total</td>\n",
       "    </tr>\n",
       "    <tr>\n",
       "      <th>4</th>\n",
       "      <td>2016</td>\n",
       "      <td>7641323</td>\n",
       "      <td>Nederland</td>\n",
       "      <td>Total</td>\n",
       "      <td>Single-family homes and multi-family homes total</td>\n",
       "    </tr>\n",
       "  </tbody>\n",
       "</table>\n",
       "</div>"
      ],
      "text/plain": [
       "   Year  Number of Houses     Region House Type  \\\n",
       "0  2012           7386743  Nederland      Total   \n",
       "1  2013           7449298  Nederland      Total   \n",
       "2  2014           7535316  Nederland      Total   \n",
       "3  2015           7587964  Nederland      Total   \n",
       "4  2016           7641323  Nederland      Total   \n",
       "\n",
       "                                   House Desription  \n",
       "0  Single-family homes and multi-family homes total  \n",
       "1  Single-family homes and multi-family homes total  \n",
       "2  Single-family homes and multi-family homes total  \n",
       "3  Single-family homes and multi-family homes total  \n",
       "4  Single-family homes and multi-family homes total  "
      ]
     },
     "metadata": {},
     "output_type": "display_data"
    },
    {
     "data": {
      "text/html": [
       "<div>\n",
       "<style scoped>\n",
       "    .dataframe tbody tr th:only-of-type {\n",
       "        vertical-align: middle;\n",
       "    }\n",
       "\n",
       "    .dataframe tbody tr th {\n",
       "        vertical-align: top;\n",
       "    }\n",
       "\n",
       "    .dataframe thead th {\n",
       "        text-align: right;\n",
       "    }\n",
       "</style>\n",
       "<table border=\"1\" class=\"dataframe\">\n",
       "  <thead>\n",
       "    <tr style=\"text-align: right;\">\n",
       "      <th></th>\n",
       "      <th>Year</th>\n",
       "      <th>Number of Houses</th>\n",
       "      <th>Region</th>\n",
       "      <th>House Type</th>\n",
       "      <th>House Desription</th>\n",
       "    </tr>\n",
       "  </thead>\n",
       "  <tbody>\n",
       "    <tr>\n",
       "      <th>0</th>\n",
       "      <td>2012</td>\n",
       "      <td>4855858</td>\n",
       "      <td>Nederland</td>\n",
       "      <td>Single-family home</td>\n",
       "      <td>Any dwelling that also forms a whole building....</td>\n",
       "    </tr>\n",
       "    <tr>\n",
       "      <th>1</th>\n",
       "      <td>2013</td>\n",
       "      <td>4875461</td>\n",
       "      <td>Nederland</td>\n",
       "      <td>Single-family home</td>\n",
       "      <td>Any dwelling that also forms a whole building....</td>\n",
       "    </tr>\n",
       "    <tr>\n",
       "      <th>2</th>\n",
       "      <td>2014</td>\n",
       "      <td>4889114</td>\n",
       "      <td>Nederland</td>\n",
       "      <td>Single-family home</td>\n",
       "      <td>Any dwelling that also forms a whole building....</td>\n",
       "    </tr>\n",
       "    <tr>\n",
       "      <th>3</th>\n",
       "      <td>2015</td>\n",
       "      <td>4905957</td>\n",
       "      <td>Nederland</td>\n",
       "      <td>Single-family home</td>\n",
       "      <td>Any dwelling that also forms a whole building....</td>\n",
       "    </tr>\n",
       "    <tr>\n",
       "      <th>4</th>\n",
       "      <td>2016</td>\n",
       "      <td>4927588</td>\n",
       "      <td>Nederland</td>\n",
       "      <td>Single-family home</td>\n",
       "      <td>Any dwelling that also forms a whole building....</td>\n",
       "    </tr>\n",
       "  </tbody>\n",
       "</table>\n",
       "</div>"
      ],
      "text/plain": [
       "   Year  Number of Houses     Region          House Type  \\\n",
       "0  2012           4855858  Nederland  Single-family home   \n",
       "1  2013           4875461  Nederland  Single-family home   \n",
       "2  2014           4889114  Nederland  Single-family home   \n",
       "3  2015           4905957  Nederland  Single-family home   \n",
       "4  2016           4927588  Nederland  Single-family home   \n",
       "\n",
       "                                    House Desription  \n",
       "0  Any dwelling that also forms a whole building....  \n",
       "1  Any dwelling that also forms a whole building....  \n",
       "2  Any dwelling that also forms a whole building....  \n",
       "3  Any dwelling that also forms a whole building....  \n",
       "4  Any dwelling that also forms a whole building....  "
      ]
     },
     "metadata": {},
     "output_type": "display_data"
    },
    {
     "data": {
      "text/html": [
       "<div>\n",
       "<style scoped>\n",
       "    .dataframe tbody tr th:only-of-type {\n",
       "        vertical-align: middle;\n",
       "    }\n",
       "\n",
       "    .dataframe tbody tr th {\n",
       "        vertical-align: top;\n",
       "    }\n",
       "\n",
       "    .dataframe thead th {\n",
       "        text-align: right;\n",
       "    }\n",
       "</style>\n",
       "<table border=\"1\" class=\"dataframe\">\n",
       "  <thead>\n",
       "    <tr style=\"text-align: right;\">\n",
       "      <th></th>\n",
       "      <th>Year</th>\n",
       "      <th>Number of Houses</th>\n",
       "      <th>Region</th>\n",
       "      <th>House Type</th>\n",
       "      <th>House Desription</th>\n",
       "    </tr>\n",
       "  </thead>\n",
       "  <tbody>\n",
       "    <tr>\n",
       "      <th>0</th>\n",
       "      <td>2012</td>\n",
       "      <td>772104</td>\n",
       "      <td>Northern Netherlands (LD)</td>\n",
       "      <td>Total</td>\n",
       "      <td>Single-family homes and multi-family homes total</td>\n",
       "    </tr>\n",
       "    <tr>\n",
       "      <th>1</th>\n",
       "      <td>2013</td>\n",
       "      <td>771736</td>\n",
       "      <td>Northern Netherlands (LD)</td>\n",
       "      <td>Total</td>\n",
       "      <td>Single-family homes and multi-family homes total</td>\n",
       "    </tr>\n",
       "    <tr>\n",
       "      <th>2</th>\n",
       "      <td>2014</td>\n",
       "      <td>781292</td>\n",
       "      <td>Northern Netherlands (LD)</td>\n",
       "      <td>Total</td>\n",
       "      <td>Single-family homes and multi-family homes total</td>\n",
       "    </tr>\n",
       "    <tr>\n",
       "      <th>3</th>\n",
       "      <td>2015</td>\n",
       "      <td>785326</td>\n",
       "      <td>Northern Netherlands (LD)</td>\n",
       "      <td>Total</td>\n",
       "      <td>Single-family homes and multi-family homes total</td>\n",
       "    </tr>\n",
       "    <tr>\n",
       "      <th>4</th>\n",
       "      <td>2016</td>\n",
       "      <td>788884</td>\n",
       "      <td>Northern Netherlands (LD)</td>\n",
       "      <td>Total</td>\n",
       "      <td>Single-family homes and multi-family homes total</td>\n",
       "    </tr>\n",
       "  </tbody>\n",
       "</table>\n",
       "</div>"
      ],
      "text/plain": [
       "   Year  Number of Houses                     Region House Type  \\\n",
       "0  2012            772104  Northern Netherlands (LD)      Total   \n",
       "1  2013            771736  Northern Netherlands (LD)      Total   \n",
       "2  2014            781292  Northern Netherlands (LD)      Total   \n",
       "3  2015            785326  Northern Netherlands (LD)      Total   \n",
       "4  2016            788884  Northern Netherlands (LD)      Total   \n",
       "\n",
       "                                   House Desription  \n",
       "0  Single-family homes and multi-family homes total  \n",
       "1  Single-family homes and multi-family homes total  \n",
       "2  Single-family homes and multi-family homes total  \n",
       "3  Single-family homes and multi-family homes total  \n",
       "4  Single-family homes and multi-family homes total  "
      ]
     },
     "metadata": {},
     "output_type": "display_data"
    },
    {
     "data": {
      "text/html": [
       "<div>\n",
       "<style scoped>\n",
       "    .dataframe tbody tr th:only-of-type {\n",
       "        vertical-align: middle;\n",
       "    }\n",
       "\n",
       "    .dataframe tbody tr th {\n",
       "        vertical-align: top;\n",
       "    }\n",
       "\n",
       "    .dataframe thead th {\n",
       "        text-align: right;\n",
       "    }\n",
       "</style>\n",
       "<table border=\"1\" class=\"dataframe\">\n",
       "  <thead>\n",
       "    <tr style=\"text-align: right;\">\n",
       "      <th></th>\n",
       "      <th>Year</th>\n",
       "      <th>Number of Houses</th>\n",
       "      <th>Region</th>\n",
       "      <th>House Type</th>\n",
       "      <th>House Desription</th>\n",
       "    </tr>\n",
       "  </thead>\n",
       "  <tbody>\n",
       "    <tr>\n",
       "      <th>0</th>\n",
       "      <td>2012</td>\n",
       "      <td>600511</td>\n",
       "      <td>Northern Netherlands (LD)</td>\n",
       "      <td>Single-family home</td>\n",
       "      <td>Any dwelling that also forms a whole building....</td>\n",
       "    </tr>\n",
       "    <tr>\n",
       "      <th>1</th>\n",
       "      <td>2013</td>\n",
       "      <td>598514</td>\n",
       "      <td>Northern Netherlands (LD)</td>\n",
       "      <td>Single-family home</td>\n",
       "      <td>Any dwelling that also forms a whole building....</td>\n",
       "    </tr>\n",
       "    <tr>\n",
       "      <th>2</th>\n",
       "      <td>2014</td>\n",
       "      <td>598867</td>\n",
       "      <td>Northern Netherlands (LD)</td>\n",
       "      <td>Single-family home</td>\n",
       "      <td>Any dwelling that also forms a whole building....</td>\n",
       "    </tr>\n",
       "    <tr>\n",
       "      <th>3</th>\n",
       "      <td>2015</td>\n",
       "      <td>599722</td>\n",
       "      <td>Northern Netherlands (LD)</td>\n",
       "      <td>Single-family home</td>\n",
       "      <td>Any dwelling that also forms a whole building....</td>\n",
       "    </tr>\n",
       "    <tr>\n",
       "      <th>4</th>\n",
       "      <td>2016</td>\n",
       "      <td>600660</td>\n",
       "      <td>Northern Netherlands (LD)</td>\n",
       "      <td>Single-family home</td>\n",
       "      <td>Any dwelling that also forms a whole building....</td>\n",
       "    </tr>\n",
       "  </tbody>\n",
       "</table>\n",
       "</div>"
      ],
      "text/plain": [
       "   Year  Number of Houses                     Region          House Type  \\\n",
       "0  2012            600511  Northern Netherlands (LD)  Single-family home   \n",
       "1  2013            598514  Northern Netherlands (LD)  Single-family home   \n",
       "2  2014            598867  Northern Netherlands (LD)  Single-family home   \n",
       "3  2015            599722  Northern Netherlands (LD)  Single-family home   \n",
       "4  2016            600660  Northern Netherlands (LD)  Single-family home   \n",
       "\n",
       "                                    House Desription  \n",
       "0  Any dwelling that also forms a whole building....  \n",
       "1  Any dwelling that also forms a whole building....  \n",
       "2  Any dwelling that also forms a whole building....  \n",
       "3  Any dwelling that also forms a whole building....  \n",
       "4  Any dwelling that also forms a whole building....  "
      ]
     },
     "metadata": {},
     "output_type": "display_data"
    }
   ],
   "source": [
    "display(df_neth_total.head())\n",
    "display(df_neth_types.head())\n",
    "display(df_reg_total.head())\n",
    "display(df_reg_types.head())"
   ]
  },
  {
   "cell_type": "markdown",
   "id": "38a6f64a-2183-4d2e-8ebe-0ee0a78aaf1d",
   "metadata": {},
   "source": [
    "#### Population data"
   ]
  },
  {
   "cell_type": "code",
   "execution_count": 19,
   "id": "7637ec84-1642-40d9-831a-a5111b7c9609",
   "metadata": {},
   "outputs": [],
   "source": [
    "df_population[\"Periods\"] = df_population[\"Periods\"].str[:4].astype(int)\n",
    "df_population = df_population.rename(columns = {\"Periods\": \"Year\"})"
   ]
  },
  {
   "cell_type": "code",
   "execution_count": 20,
   "id": "d1b35c93-5a07-477d-818b-8d1e4bd70934",
   "metadata": {},
   "outputs": [],
   "source": [
    "df_pop_final = df_population[(df_population[\"Year\"] >= 2012) & (df_population[\"Year\"] <= 2023)] #keeping the needed dates\n",
    "df_pop_final = df_pop_final.rename(columns = {\"PopulationAtStartOfSelectedPeriod_1\": \"Population\"})\n",
    "df_pop_final = df_pop_final[[\"Year\", \"Population\"]]\n",
    "df_pop_final = df_pop_final.groupby(\"Year\").first().reset_index()"
   ]
  },
  {
   "cell_type": "code",
   "execution_count": 21,
   "id": "f74c8052-ec89-4295-b197-52a57482fbc9",
   "metadata": {},
   "outputs": [
    {
     "data": {
      "text/html": [
       "<div>\n",
       "<style scoped>\n",
       "    .dataframe tbody tr th:only-of-type {\n",
       "        vertical-align: middle;\n",
       "    }\n",
       "\n",
       "    .dataframe tbody tr th {\n",
       "        vertical-align: top;\n",
       "    }\n",
       "\n",
       "    .dataframe thead th {\n",
       "        text-align: right;\n",
       "    }\n",
       "</style>\n",
       "<table border=\"1\" class=\"dataframe\">\n",
       "  <thead>\n",
       "    <tr style=\"text-align: right;\">\n",
       "      <th></th>\n",
       "      <th>Year</th>\n",
       "      <th>Population</th>\n",
       "    </tr>\n",
       "  </thead>\n",
       "  <tbody>\n",
       "    <tr>\n",
       "      <th>0</th>\n",
       "      <td>2012</td>\n",
       "      <td>16730348</td>\n",
       "    </tr>\n",
       "    <tr>\n",
       "      <th>1</th>\n",
       "      <td>2013</td>\n",
       "      <td>16779575</td>\n",
       "    </tr>\n",
       "    <tr>\n",
       "      <th>2</th>\n",
       "      <td>2014</td>\n",
       "      <td>16829289</td>\n",
       "    </tr>\n",
       "    <tr>\n",
       "      <th>3</th>\n",
       "      <td>2015</td>\n",
       "      <td>16900726</td>\n",
       "    </tr>\n",
       "    <tr>\n",
       "      <th>4</th>\n",
       "      <td>2016</td>\n",
       "      <td>16979120</td>\n",
       "    </tr>\n",
       "    <tr>\n",
       "      <th>5</th>\n",
       "      <td>2017</td>\n",
       "      <td>17081507</td>\n",
       "    </tr>\n",
       "    <tr>\n",
       "      <th>6</th>\n",
       "      <td>2018</td>\n",
       "      <td>17181084</td>\n",
       "    </tr>\n",
       "    <tr>\n",
       "      <th>7</th>\n",
       "      <td>2019</td>\n",
       "      <td>17282163</td>\n",
       "    </tr>\n",
       "    <tr>\n",
       "      <th>8</th>\n",
       "      <td>2020</td>\n",
       "      <td>17407585</td>\n",
       "    </tr>\n",
       "    <tr>\n",
       "      <th>9</th>\n",
       "      <td>2021</td>\n",
       "      <td>17475415</td>\n",
       "    </tr>\n",
       "    <tr>\n",
       "      <th>10</th>\n",
       "      <td>2022</td>\n",
       "      <td>17590672</td>\n",
       "    </tr>\n",
       "    <tr>\n",
       "      <th>11</th>\n",
       "      <td>2023</td>\n",
       "      <td>17811291</td>\n",
       "    </tr>\n",
       "  </tbody>\n",
       "</table>\n",
       "</div>"
      ],
      "text/plain": [
       "    Year  Population\n",
       "0   2012    16730348\n",
       "1   2013    16779575\n",
       "2   2014    16829289\n",
       "3   2015    16900726\n",
       "4   2016    16979120\n",
       "5   2017    17081507\n",
       "6   2018    17181084\n",
       "7   2019    17282163\n",
       "8   2020    17407585\n",
       "9   2021    17475415\n",
       "10  2022    17590672\n",
       "11  2023    17811291"
      ]
     },
     "execution_count": 21,
     "metadata": {},
     "output_type": "execute_result"
    }
   ],
   "source": [
    "df_pop_final"
   ]
  },
  {
   "cell_type": "code",
   "execution_count": 22,
   "id": "a8898091-3de0-4f84-9c82-76713a8b4fc3",
   "metadata": {},
   "outputs": [
    {
     "data": {
      "text/html": [
       "<div>\n",
       "<style scoped>\n",
       "    .dataframe tbody tr th:only-of-type {\n",
       "        vertical-align: middle;\n",
       "    }\n",
       "\n",
       "    .dataframe tbody tr th {\n",
       "        vertical-align: top;\n",
       "    }\n",
       "\n",
       "    .dataframe thead th {\n",
       "        text-align: right;\n",
       "    }\n",
       "</style>\n",
       "<table border=\"1\" class=\"dataframe\">\n",
       "  <thead>\n",
       "    <tr style=\"text-align: right;\">\n",
       "      <th></th>\n",
       "      <th>Year</th>\n",
       "      <th>Number of Houses</th>\n",
       "      <th>Region</th>\n",
       "      <th>House Type</th>\n",
       "      <th>House Desription</th>\n",
       "    </tr>\n",
       "  </thead>\n",
       "  <tbody>\n",
       "    <tr>\n",
       "      <th>0</th>\n",
       "      <td>2012</td>\n",
       "      <td>7386743</td>\n",
       "      <td>Nederland</td>\n",
       "      <td>Total</td>\n",
       "      <td>Single-family homes and multi-family homes total</td>\n",
       "    </tr>\n",
       "    <tr>\n",
       "      <th>1</th>\n",
       "      <td>2013</td>\n",
       "      <td>7449298</td>\n",
       "      <td>Nederland</td>\n",
       "      <td>Total</td>\n",
       "      <td>Single-family homes and multi-family homes total</td>\n",
       "    </tr>\n",
       "    <tr>\n",
       "      <th>2</th>\n",
       "      <td>2014</td>\n",
       "      <td>7535316</td>\n",
       "      <td>Nederland</td>\n",
       "      <td>Total</td>\n",
       "      <td>Single-family homes and multi-family homes total</td>\n",
       "    </tr>\n",
       "    <tr>\n",
       "      <th>3</th>\n",
       "      <td>2015</td>\n",
       "      <td>7587964</td>\n",
       "      <td>Nederland</td>\n",
       "      <td>Total</td>\n",
       "      <td>Single-family homes and multi-family homes total</td>\n",
       "    </tr>\n",
       "    <tr>\n",
       "      <th>4</th>\n",
       "      <td>2016</td>\n",
       "      <td>7641323</td>\n",
       "      <td>Nederland</td>\n",
       "      <td>Total</td>\n",
       "      <td>Single-family homes and multi-family homes total</td>\n",
       "    </tr>\n",
       "    <tr>\n",
       "      <th>5</th>\n",
       "      <td>2017</td>\n",
       "      <td>7686178</td>\n",
       "      <td>Nederland</td>\n",
       "      <td>Total</td>\n",
       "      <td>Single-family homes and multi-family homes total</td>\n",
       "    </tr>\n",
       "    <tr>\n",
       "      <th>6</th>\n",
       "      <td>2018</td>\n",
       "      <td>7740984</td>\n",
       "      <td>Nederland</td>\n",
       "      <td>Total</td>\n",
       "      <td>Single-family homes and multi-family homes total</td>\n",
       "    </tr>\n",
       "    <tr>\n",
       "      <th>7</th>\n",
       "      <td>2019</td>\n",
       "      <td>7814912</td>\n",
       "      <td>Nederland</td>\n",
       "      <td>Total</td>\n",
       "      <td>Single-family homes and multi-family homes total</td>\n",
       "    </tr>\n",
       "    <tr>\n",
       "      <th>8</th>\n",
       "      <td>2020</td>\n",
       "      <td>7891786</td>\n",
       "      <td>Nederland</td>\n",
       "      <td>Total</td>\n",
       "      <td>Single-family homes and multi-family homes total</td>\n",
       "    </tr>\n",
       "    <tr>\n",
       "      <th>9</th>\n",
       "      <td>2021</td>\n",
       "      <td>7966331</td>\n",
       "      <td>Nederland</td>\n",
       "      <td>Total</td>\n",
       "      <td>Single-family homes and multi-family homes total</td>\n",
       "    </tr>\n",
       "    <tr>\n",
       "      <th>10</th>\n",
       "      <td>2022</td>\n",
       "      <td>8045580</td>\n",
       "      <td>Nederland</td>\n",
       "      <td>Total</td>\n",
       "      <td>Single-family homes and multi-family homes total</td>\n",
       "    </tr>\n",
       "    <tr>\n",
       "      <th>11</th>\n",
       "      <td>2023</td>\n",
       "      <td>8125229</td>\n",
       "      <td>Nederland</td>\n",
       "      <td>Total</td>\n",
       "      <td>Single-family homes and multi-family homes total</td>\n",
       "    </tr>\n",
       "  </tbody>\n",
       "</table>\n",
       "</div>"
      ],
      "text/plain": [
       "    Year  Number of Houses     Region House Type  \\\n",
       "0   2012           7386743  Nederland      Total   \n",
       "1   2013           7449298  Nederland      Total   \n",
       "2   2014           7535316  Nederland      Total   \n",
       "3   2015           7587964  Nederland      Total   \n",
       "4   2016           7641323  Nederland      Total   \n",
       "5   2017           7686178  Nederland      Total   \n",
       "6   2018           7740984  Nederland      Total   \n",
       "7   2019           7814912  Nederland      Total   \n",
       "8   2020           7891786  Nederland      Total   \n",
       "9   2021           7966331  Nederland      Total   \n",
       "10  2022           8045580  Nederland      Total   \n",
       "11  2023           8125229  Nederland      Total   \n",
       "\n",
       "                                    House Desription  \n",
       "0   Single-family homes and multi-family homes total  \n",
       "1   Single-family homes and multi-family homes total  \n",
       "2   Single-family homes and multi-family homes total  \n",
       "3   Single-family homes and multi-family homes total  \n",
       "4   Single-family homes and multi-family homes total  \n",
       "5   Single-family homes and multi-family homes total  \n",
       "6   Single-family homes and multi-family homes total  \n",
       "7   Single-family homes and multi-family homes total  \n",
       "8   Single-family homes and multi-family homes total  \n",
       "9   Single-family homes and multi-family homes total  \n",
       "10  Single-family homes and multi-family homes total  \n",
       "11  Single-family homes and multi-family homes total  "
      ]
     },
     "execution_count": 22,
     "metadata": {},
     "output_type": "execute_result"
    }
   ],
   "source": [
    "df_neth_total"
   ]
  },
  {
   "cell_type": "markdown",
   "id": "c4a7f2ea-7c03-47c6-a3d2-a61051bfeb91",
   "metadata": {},
   "source": [
    "# 4 Graph population and housing data"
   ]
  },
  {
   "cell_type": "code",
   "execution_count": 24,
   "id": "abf7e37d-80eb-4fa8-84bb-2f87e01bfaaf",
   "metadata": {},
   "outputs": [
    {
     "data": {
      "image/png": "[encoded data removed]",
      "text/plain": [
       "<Figure size 1200x600 with 2 Axes>"
      ]
     },
     "metadata": {},
     "output_type": "display_data"
    }
   ],
   "source": [
    "fig, ax = plt.subplots(figsize=(12, 6))\n",
    "\n",
    "# First y-axis: Population\n",
    "ax.plot(df_pop_final[\"Year\"], df_pop_final[\"Population\"], label=\"Population\", color=\"blue\", linestyle=\"--\", linewidth = 3)\n",
    "ax.set_ylabel(\"Population\", fontsize=12, color=\"blue\")\n",
    "ax.yaxis.set_major_formatter(ticker.FuncFormatter(lambda x, pos: f'{x/1e6:.1f}M'))\n",
    "\n",
    "# Scale first y-axis\n",
    "ax.set_ylim(min(df_pop_final[\"Population\"]) * 0.98, max(df_pop_final[\"Population\"]) * 1.02)\n",
    "\n",
    "# Create second y-axis\n",
    "ax2 = ax.twinx()\n",
    "\n",
    "# Second y-axis: Housing\n",
    "ax2.plot(df_neth_total[\"Year\"], df_neth_total[\"Number of Houses\"], label=\"Housing\", color=\"red\", linestyle=\":\", linewidth = 3)\n",
    "ax2.set_ylabel(\"Number of Houses\", fontsize=12, color=\"red\")\n",
    "ax2.yaxis.set_major_formatter(ticker.FuncFormatter(lambda x, pos: f'{x/1e6:.1f}M'))\n",
    "\n",
    "# Scale second y-axis\n",
    "ax2.set_ylim(min(df_neth_total[\"Number of Houses\"]) * 0.98, max(df_neth_total[\"Number of Houses\"]) * 1.02)\n",
    "\n",
    "# Set x-axis labels\n",
    "ax.set_xticks(df_pop_final[\"Year\"])\n",
    "plt.setp(ax.get_xticklabels(), rotation=45)\n",
    "\n",
    "# Grid and background\n",
    "ax.grid(color='grey', linestyle='--', linewidth=0.7)\n",
    "\n",
    "# Titles\n",
    "ax.set_title(\"Population vs. Housing Growth (2012-2023)\", fontsize=14)\n",
    "ax.set_xlabel(\"Year\", fontsize=12)\n",
    "\n",
    "plt.show()"
   ]
  },
  {
   "cell_type": "markdown",
   "id": "f355d3da-70bf-48a1-adbb-1e39e6c6069c",
   "metadata": {},
   "source": [
    "### Interactive chart"
   ]
  },
  {
   "cell_type": "code",
   "execution_count": 46,
   "id": "f5efaa10-4b72-4bc3-bbb7-c63df56f2c5f",
   "metadata": {},
   "outputs": [
    {
     "data": {
      "application/vnd.plotly.v1+json": {
       "config": {
        "plotlyServerURL": "https://plot.ly"
       },
       "data": [
        {
         "line": {
          "color": "blue"
         },
         "mode": "lines",
         "name": "Population",
         "type": "scatter",
         "x": [
          2012,
          2013,
          2014,
          2015,
          2016,
          2017,
          2018,
          2019,
          2020,
          2021,
          2022,
          2023
         ],
         "xaxis": "x",
         "y": [
          16730348,
          16779575,
          16829289,
          16900726,
          16979120,
          17081507,
          17181084,
          17282163,
          17407585,
          17475415,
          17590672,
          17811291
         ],
         "yaxis": "y"
        },
        {
         "line": {
          "color": "red",
          "dash": "dot"
         },
         "mode": "lines",
         "name": "Number of Houses",
         "type": "scatter",
         "x": [
          2012,
          2013,
          2014,
          2015,
          2016,
          2017,
          2018,
          2019,
          2020,
          2021,
          2022,
          2023
         ],
         "xaxis": "x",
         "y": [
          7386743,
          7449298,
          7535316,
          7587964,
          7641323,
          7686178,
          7740984,
          7814912,
          7891786,
          7966331,
          8045580,
          8125229
         ],
         "yaxis": "y2"
        }
       ],
       "layout": {
        "autosize": true,
        "legend": {
         "x": 0,
         "y": 1
        },
        "template": {
         "data": {
          "bar": [
           {
            "error_x": {
             "color": "#2a3f5f"
            },
            "error_y": {
             "color": "#2a3f5f"
            },
            "marker": {
             "line": {
              "color": "#E5ECF6",
              "width": 0.5
             },
             "pattern": {
              "fillmode": "overlay",
              "size": 10,
              "solidity": 0.2
             }
            },
            "type": "bar"
           }
          ],
          "barpolar": [
           {
            "marker": {
             "line": {
              "color": "#E5ECF6",
              "width": 0.5
             },
             "pattern": {
              "fillmode": "overlay",
              "size": 10,
              "solidity": 0.2
             }
            },
            "type": "barpolar"
           }
          ],
          "carpet": [
           {
            "aaxis": {
             "endlinecolor": "#2a3f5f",
             "gridcolor": "white",
             "linecolor": "white",
             "minorgridcolor": "white",
             "startlinecolor": "#2a3f5f"
            },
            "baxis": {
             "endlinecolor": "#2a3f5f",
             "gridcolor": "white",
             "linecolor": "white",
             "minorgridcolor": "white",
             "startlinecolor": "#2a3f5f"
            },
            "type": "carpet"
           }
          ],
          "choropleth": [
           {
            "colorbar": {
             "outlinewidth": 0,
             "ticks": ""
            },
            "type": "choropleth"
           }
          ],
          "contour": [
           {
            "colorbar": {
             "outlinewidth": 0,
             "ticks": ""
            },
            "colorscale": [
             [
              0,
              "#0d0887"
             ],
             [
              0.1111111111111111,
              "#46039f"
             ],
             [
              0.2222222222222222,
              "#7201a8"
             ],
             [
              0.3333333333333333,
              "#9c179e"
             ],
             [
              0.4444444444444444,
              "#bd3786"
             ],
             [
              0.5555555555555556,
              "#d8576b"
             ],
             [
              0.6666666666666666,
              "#ed7953"
             ],
             [
              0.7777777777777778,
              "#fb9f3a"
             ],
             [
              0.8888888888888888,
              "#fdca26"
             ],
             [
              1,
              "#f0f921"
             ]
            ],
            "type": "contour"
           }
          ],
          "contourcarpet": [
           {
            "colorbar": {
             "outlinewidth": 0,
             "ticks": ""
            },
            "type": "contourcarpet"
           }
          ],
          "heatmap": [
           {
            "colorbar": {
             "outlinewidth": 0,
             "ticks": ""
            },
            "colorscale": [
             [
              0,
              "#0d0887"
             ],
             [
              0.1111111111111111,
              "#46039f"
             ],
             [
              0.2222222222222222,
              "#7201a8"
             ],
             [
              0.3333333333333333,
              "#9c179e"
             ],
             [
              0.4444444444444444,
              "#bd3786"
             ],
             [
              0.5555555555555556,
              "#d8576b"
             ],
             [
              0.6666666666666666,
              "#ed7953"
             ],
             [
              0.7777777777777778,
              "#fb9f3a"
             ],
             [
              0.8888888888888888,
              "#fdca26"
             ],
             [
              1,
              "#f0f921"
             ]
            ],
            "type": "heatmap"
           }
          ],
          "heatmapgl": [
           {
            "colorbar": {
             "outlinewidth": 0,
             "ticks": ""
            },
            "colorscale": [
             [
              0,
              "#0d0887"
             ],
             [
              0.1111111111111111,
              "#46039f"
             ],
             [
              0.2222222222222222,
              "#7201a8"
             ],
             [
              0.3333333333333333,
              "#9c179e"
             ],
             [
              0.4444444444444444,
              "#bd3786"
             ],
             [
              0.5555555555555556,
              "#d8576b"
             ],
             [
              0.6666666666666666,
              "#ed7953"
             ],
             [
              0.7777777777777778,
              "#fb9f3a"
             ],
             [
              0.8888888888888888,
              "#fdca26"
             ],
             [
              1,
              "#f0f921"
             ]
            ],
            "type": "heatmapgl"
           }
          ],
          "histogram": [
           {
            "marker": {
             "pattern": {
              "fillmode": "overlay",
              "size": 10,
              "solidity": 0.2
             }
            },
            "type": "histogram"
           }
          ],
          "histogram2d": [
           {
            "colorbar": {
             "outlinewidth": 0,
             "ticks": ""
            },
            "colorscale": [
             [
              0,
              "#0d0887"
             ],
             [
              0.1111111111111111,
              "#46039f"
             ],
             [
              0.2222222222222222,
              "#7201a8"
             ],
             [
              0.3333333333333333,
              "#9c179e"
             ],
             [
              0.4444444444444444,
              "#bd3786"
             ],
             [
              0.5555555555555556,
              "#d8576b"
             ],
             [
              0.6666666666666666,
              "#ed7953"
             ],
             [
              0.7777777777777778,
              "#fb9f3a"
             ],
             [
              0.8888888888888888,
              "#fdca26"
             ],
             [
              1,
              "#f0f921"
             ]
            ],
            "type": "histogram2d"
           }
          ],
          "histogram2dcontour": [
           {
            "colorbar": {
             "outlinewidth": 0,
             "ticks": ""
            },
            "colorscale": [
             [
              0,
              "#0d0887"
             ],
             [
              0.1111111111111111,
              "#46039f"
             ],
             [
              0.2222222222222222,
              "#7201a8"
             ],
             [
              0.3333333333333333,
              "#9c179e"
             ],
             [
              0.4444444444444444,
              "#bd3786"
             ],
             [
              0.5555555555555556,
              "#d8576b"
             ],
             [
              0.6666666666666666,
              "#ed7953"
             ],
             [
              0.7777777777777778,
              "#fb9f3a"
             ],
             [
              0.8888888888888888,
              "#fdca26"
             ],
             [
              1,
              "#f0f921"
             ]
            ],
            "type": "histogram2dcontour"
           }
          ],
          "mesh3d": [
           {
            "colorbar": {
             "outlinewidth": 0,
             "ticks": ""
            },
            "type": "mesh3d"
           }
          ],
          "parcoords": [
           {
            "line": {
             "colorbar": {
              "outlinewidth": 0,
              "ticks": ""
             }
            },
            "type": "parcoords"
           }
          ],
          "pie": [
           {
            "automargin": true,
            "type": "pie"
           }
          ],
          "scatter": [
           {
            "fillpattern": {
             "fillmode": "overlay",
             "size": 10,
             "solidity": 0.2
            },
            "type": "scatter"
           }
          ],
          "scatter3d": [
           {
            "line": {
             "colorbar": {
              "outlinewidth": 0,
              "ticks": ""
             }
            },
            "marker": {
             "colorbar": {
              "outlinewidth": 0,
              "ticks": ""
             }
            },
            "type": "scatter3d"
           }
          ],
          "scattercarpet": [
           {
            "marker": {
             "colorbar": {
              "outlinewidth": 0,
              "ticks": ""
             }
            },
            "type": "scattercarpet"
           }
          ],
          "scattergeo": [
           {
            "marker": {
             "colorbar": {
              "outlinewidth": 0,
              "ticks": ""
             }
            },
            "type": "scattergeo"
           }
          ],
          "scattergl": [
           {
            "marker": {
             "colorbar": {
              "outlinewidth": 0,
              "ticks": ""
             }
            },
            "type": "scattergl"
           }
          ],
          "scattermapbox": [
           {
            "marker": {
             "colorbar": {
              "outlinewidth": 0,
              "ticks": ""
             }
            },
            "type": "scattermapbox"
           }
          ],
          "scatterpolar": [
           {
            "marker": {
             "colorbar": {
              "outlinewidth": 0,
              "ticks": ""
             }
            },
            "type": "scatterpolar"
           }
          ],
          "scatterpolargl": [
           {
            "marker": {
             "colorbar": {
              "outlinewidth": 0,
              "ticks": ""
             }
            },
            "type": "scatterpolargl"
           }
          ],
          "scatterternary": [
           {
            "marker": {
             "colorbar": {
              "outlinewidth": 0,
              "ticks": ""
             }
            },
            "type": "scatterternary"
           }
          ],
          "surface": [
           {
            "colorbar": {
             "outlinewidth": 0,
             "ticks": ""
            },
            "colorscale": [
             [
              0,
              "#0d0887"
             ],
             [
              0.1111111111111111,
              "#46039f"
             ],
             [
              0.2222222222222222,
              "#7201a8"
             ],
             [
              0.3333333333333333,
              "#9c179e"
             ],
             [
              0.4444444444444444,
              "#bd3786"
             ],
             [
              0.5555555555555556,
              "#d8576b"
             ],
             [
              0.6666666666666666,
              "#ed7953"
             ],
             [
              0.7777777777777778,
              "#fb9f3a"
             ],
             [
              0.8888888888888888,
              "#fdca26"
             ],
             [
              1,
              "#f0f921"
             ]
            ],
            "type": "surface"
           }
          ],
          "table": [
           {
            "cells": {
             "fill": {
              "color": "#EBF0F8"
             },
             "line": {
              "color": "white"
             }
            },
            "header": {
             "fill": {
              "color": "#C8D4E3"
             },
             "line": {
              "color": "white"
             }
            },
            "type": "table"
           }
          ]
         },
         "layout": {
          "annotationdefaults": {
           "arrowcolor": "#2a3f5f",
           "arrowhead": 0,
           "arrowwidth": 1
          },
          "autotypenumbers": "strict",
          "coloraxis": {
           "colorbar": {
            "outlinewidth": 0,
            "ticks": ""
           }
          },
          "colorscale": {
           "diverging": [
            [
             0,
             "#8e0152"
            ],
            [
             0.1,
             "#c51b7d"
            ],
            [
             0.2,
             "#de77ae"
            ],
            [
             0.3,
             "#f1b6da"
            ],
            [
             0.4,
             "#fde0ef"
            ],
            [
             0.5,
             "#f7f7f7"
            ],
            [
             0.6,
             "#e6f5d0"
            ],
            [
             0.7,
             "#b8e186"
            ],
            [
             0.8,
             "#7fbc41"
            ],
            [
             0.9,
             "#4d9221"
            ],
            [
             1,
             "#276419"
            ]
           ],
           "sequential": [
            [
             0,
             "#0d0887"
            ],
            [
             0.1111111111111111,
             "#46039f"
            ],
            [
             0.2222222222222222,
             "#7201a8"
            ],
            [
             0.3333333333333333,
             "#9c179e"
            ],
            [
             0.4444444444444444,
             "#bd3786"
            ],
            [
             0.5555555555555556,
             "#d8576b"
            ],
            [
             0.6666666666666666,
             "#ed7953"
            ],
            [
             0.7777777777777778,
             "#fb9f3a"
            ],
            [
             0.8888888888888888,
             "#fdca26"
            ],
            [
             1,
             "#f0f921"
            ]
           ],
           "sequentialminus": [
            [
             0,
             "#0d0887"
            ],
            [
             0.1111111111111111,
             "#46039f"
            ],
            [
             0.2222222222222222,
             "#7201a8"
            ],
            [
             0.3333333333333333,
             "#9c179e"
            ],
            [
             0.4444444444444444,
             "#bd3786"
            ],
            [
             0.5555555555555556,
             "#d8576b"
            ],
            [
             0.6666666666666666,
             "#ed7953"
            ],
            [
             0.7777777777777778,
             "#fb9f3a"
            ],
            [
             0.8888888888888888,
             "#fdca26"
            ],
            [
             1,
             "#f0f921"
            ]
           ]
          },
          "colorway": [
           "#636efa",
           "#EF553B",
           "#00cc96",
           "#ab63fa",
           "#FFA15A",
           "#19d3f3",
           "#FF6692",
           "#B6E880",
           "#FF97FF",
           "#FECB52"
          ],
          "font": {
           "color": "#2a3f5f"
          },
          "geo": {
           "bgcolor": "white",
           "lakecolor": "white",
           "landcolor": "#E5ECF6",
           "showlakes": true,
           "showland": true,
           "subunitcolor": "white"
          },
          "hoverlabel": {
           "align": "left"
          },
          "hovermode": "closest",
          "mapbox": {
           "style": "light"
          },
          "paper_bgcolor": "white",
          "plot_bgcolor": "#E5ECF6",
          "polar": {
           "angularaxis": {
            "gridcolor": "white",
            "linecolor": "white",
            "ticks": ""
           },
           "bgcolor": "#E5ECF6",
           "radialaxis": {
            "gridcolor": "white",
            "linecolor": "white",
            "ticks": ""
           }
          },
          "scene": {
           "xaxis": {
            "backgroundcolor": "#E5ECF6",
            "gridcolor": "white",
            "gridwidth": 2,
            "linecolor": "white",
            "showbackground": true,
            "ticks": "",
            "zerolinecolor": "white"
           },
           "yaxis": {
            "backgroundcolor": "#E5ECF6",
            "gridcolor": "white",
            "gridwidth": 2,
            "linecolor": "white",
            "showbackground": true,
            "ticks": "",
            "zerolinecolor": "white"
           },
           "zaxis": {
            "backgroundcolor": "#E5ECF6",
            "gridcolor": "white",
            "gridwidth": 2,
            "linecolor": "white",
            "showbackground": true,
            "ticks": "",
            "zerolinecolor": "white"
           }
          },
          "shapedefaults": {
           "line": {
            "color": "#2a3f5f"
           }
          },
          "ternary": {
           "aaxis": {
            "gridcolor": "white",
            "linecolor": "white",
            "ticks": ""
           },
           "baxis": {
            "gridcolor": "white",
            "linecolor": "white",
            "ticks": ""
           },
           "bgcolor": "#E5ECF6",
           "caxis": {
            "gridcolor": "white",
            "linecolor": "white",
            "ticks": ""
           }
          },
          "title": {
           "x": 0.05
          },
          "xaxis": {
           "automargin": true,
           "gridcolor": "white",
           "linecolor": "white",
           "ticks": "",
           "title": {
            "standoff": 15
           },
           "zerolinecolor": "white",
           "zerolinewidth": 2
          },
          "yaxis": {
           "automargin": true,
           "gridcolor": "white",
           "linecolor": "white",
           "ticks": "",
           "title": {
            "standoff": 15
           },
           "zerolinecolor": "white",
           "zerolinewidth": 2
          }
         }
        },
        "title": {
         "text": "Population and Number of Houses Over Time"
        },
        "xaxis": {
         "anchor": "y",
         "autorange": true,
         "domain": [
          0,
          0.94
         ],
         "dtick": 1,
         "range": [
          2012,
          2023
         ],
         "tickangle": 45,
         "tickmode": "linear",
         "title": {
          "text": "Year"
         },
         "type": "linear"
        },
        "yaxis": {
         "anchor": "x",
         "domain": [
          0,
          1
         ],
         "range": [
          16395741.04,
          18167516.82
         ],
         "tickfont": {
          "color": "blue"
         },
         "title": {
          "font": {
           "color": "blue"
          },
          "text": "Population"
         },
         "type": "linear"
        },
        "yaxis2": {
         "anchor": "x",
         "overlaying": "y",
         "range": [
          7239008.14,
          8287733.58
         ],
         "side": "right",
         "tickfont": {
          "color": "red"
         },
         "title": {
          "font": {
           "color": "red"
          },
          "text": "Number of Houses"
         },
         "type": "linear"
        }
       }
      },
      "image/png": "[encoded data removed]",
      "text/html": [
       "<div>                            <div id=\"782d31af-eff0-46e0-82f5-02185a21ceae\" class=\"plotly-graph-div\" style=\"height:600px; width:100%;\"></div>            <script type=\"text/javascript\">                require([\"plotly\"], function(Plotly) {                    window.PLOTLYENV=window.PLOTLYENV || {};                                    if (document.getElementById(\"782d31af-eff0-46e0-82f5-02185a21ceae\")) {                    Plotly.newPlot(                        \"782d31af-eff0-46e0-82f5-02185a21ceae\",                        [{\"line\":{\"color\":\"blue\"},\"mode\":\"lines\",\"name\":\"Population\",\"x\":[2012,2013,2014,2015,2016,2017,2018,2019,2020,2021,2022,2023],\"y\":[16730348,16779575,16829289,16900726,16979120,17081507,17181084,17282163,17407585,17475415,17590672,17811291],\"type\":\"scatter\",\"xaxis\":\"x\",\"yaxis\":\"y\"},{\"line\":{\"color\":\"red\",\"dash\":\"dot\"},\"mode\":\"lines\",\"name\":\"Number of Houses\",\"x\":[2012,2013,2014,2015,2016,2017,2018,2019,2020,2021,2022,2023],\"y\":[7386743,7449298,7535316,7587964,7641323,7686178,7740984,7814912,7891786,7966331,8045580,8125229],\"type\":\"scatter\",\"xaxis\":\"x\",\"yaxis\":\"y2\"}],                        {\"template\":{\"data\":{\"histogram2dcontour\":[{\"type\":\"histogram2dcontour\",\"colorbar\":{\"outlinewidth\":0,\"ticks\":\"\"},\"colorscale\":[[0.0,\"#0d0887\"],[0.1111111111111111,\"#46039f\"],[0.2222222222222222,\"#7201a8\"],[0.3333333333333333,\"#9c179e\"],[0.4444444444444444,\"#bd3786\"],[0.5555555555555556,\"#d8576b\"],[0.6666666666666666,\"#ed7953\"],[0.7777777777777778,\"#fb9f3a\"],[0.8888888888888888,\"#fdca26\"],[1.0,\"#f0f921\"]]}],\"choropleth\":[{\"type\":\"choropleth\",\"colorbar\":{\"outlinewidth\":0,\"ticks\":\"\"}}],\"histogram2d\":[{\"type\":\"histogram2d\",\"colorbar\":{\"outlinewidth\":0,\"ticks\":\"\"},\"colorscale\":[[0.0,\"#0d0887\"],[0.1111111111111111,\"#46039f\"],[0.2222222222222222,\"#7201a8\"],[0.3333333333333333,\"#9c179e\"],[0.4444444444444444,\"#bd3786\"],[0.5555555555555556,\"#d8576b\"],[0.6666666666666666,\"#ed7953\"],[0.7777777777777778,\"#fb9f3a\"],[0.8888888888888888,\"#fdca26\"],[1.0,\"#f0f921\"]]}],\"heatmap\":[{\"type\":\"heatmap\",\"colorbar\":{\"outlinewidth\":0,\"ticks\":\"\"},\"colorscale\":[[0.0,\"#0d0887\"],[0.1111111111111111,\"#46039f\"],[0.2222222222222222,\"#7201a8\"],[0.3333333333333333,\"#9c179e\"],[0.4444444444444444,\"#bd3786\"],[0.5555555555555556,\"#d8576b\"],[0.6666666666666666,\"#ed7953\"],[0.7777777777777778,\"#fb9f3a\"],[0.8888888888888888,\"#fdca26\"],[1.0,\"#f0f921\"]]}],\"heatmapgl\":[{\"type\":\"heatmapgl\",\"colorbar\":{\"outlinewidth\":0,\"ticks\":\"\"},\"colorscale\":[[0.0,\"#0d0887\"],[0.1111111111111111,\"#46039f\"],[0.2222222222222222,\"#7201a8\"],[0.3333333333333333,\"#9c179e\"],[0.4444444444444444,\"#bd3786\"],[0.5555555555555556,\"#d8576b\"],[0.6666666666666666,\"#ed7953\"],[0.7777777777777778,\"#fb9f3a\"],[0.8888888888888888,\"#fdca26\"],[1.0,\"#f0f921\"]]}],\"contourcarpet\":[{\"type\":\"contourcarpet\",\"colorbar\":{\"outlinewidth\":0,\"ticks\":\"\"}}],\"contour\":[{\"type\":\"contour\",\"colorbar\":{\"outlinewidth\":0,\"ticks\":\"\"},\"colorscale\":[[0.0,\"#0d0887\"],[0.1111111111111111,\"#46039f\"],[0.2222222222222222,\"#7201a8\"],[0.3333333333333333,\"#9c179e\"],[0.4444444444444444,\"#bd3786\"],[0.5555555555555556,\"#d8576b\"],[0.6666666666666666,\"#ed7953\"],[0.7777777777777778,\"#fb9f3a\"],[0.8888888888888888,\"#fdca26\"],[1.0,\"#f0f921\"]]}],\"surface\":[{\"type\":\"surface\",\"colorbar\":{\"outlinewidth\":0,\"ticks\":\"\"},\"colorscale\":[[0.0,\"#0d0887\"],[0.1111111111111111,\"#46039f\"],[0.2222222222222222,\"#7201a8\"],[0.3333333333333333,\"#9c179e\"],[0.4444444444444444,\"#bd3786\"],[0.5555555555555556,\"#d8576b\"],[0.6666666666666666,\"#ed7953\"],[0.7777777777777778,\"#fb9f3a\"],[0.8888888888888888,\"#fdca26\"],[1.0,\"#f0f921\"]]}],\"mesh3d\":[{\"type\":\"mesh3d\",\"colorbar\":{\"outlinewidth\":0,\"ticks\":\"\"}}],\"scatter\":[{\"fillpattern\":{\"fillmode\":\"overlay\",\"size\":10,\"solidity\":0.2},\"type\":\"scatter\"}],\"parcoords\":[{\"type\":\"parcoords\",\"line\":{\"colorbar\":{\"outlinewidth\":0,\"ticks\":\"\"}}}],\"scatterpolargl\":[{\"type\":\"scatterpolargl\",\"marker\":{\"colorbar\":{\"outlinewidth\":0,\"ticks\":\"\"}}}],\"bar\":[{\"error_x\":{\"color\":\"#2a3f5f\"},\"error_y\":{\"color\":\"#2a3f5f\"},\"marker\":{\"line\":{\"color\":\"#E5ECF6\",\"width\":0.5},\"pattern\":{\"fillmode\":\"overlay\",\"size\":10,\"solidity\":0.2}},\"type\":\"bar\"}],\"scattergeo\":[{\"type\":\"scattergeo\",\"marker\":{\"colorbar\":{\"outlinewidth\":0,\"ticks\":\"\"}}}],\"scatterpolar\":[{\"type\":\"scatterpolar\",\"marker\":{\"colorbar\":{\"outlinewidth\":0,\"ticks\":\"\"}}}],\"histogram\":[{\"marker\":{\"pattern\":{\"fillmode\":\"overlay\",\"size\":10,\"solidity\":0.2}},\"type\":\"histogram\"}],\"scattergl\":[{\"type\":\"scattergl\",\"marker\":{\"colorbar\":{\"outlinewidth\":0,\"ticks\":\"\"}}}],\"scatter3d\":[{\"type\":\"scatter3d\",\"line\":{\"colorbar\":{\"outlinewidth\":0,\"ticks\":\"\"}},\"marker\":{\"colorbar\":{\"outlinewidth\":0,\"ticks\":\"\"}}}],\"scattermapbox\":[{\"type\":\"scattermapbox\",\"marker\":{\"colorbar\":{\"outlinewidth\":0,\"ticks\":\"\"}}}],\"scatterternary\":[{\"type\":\"scatterternary\",\"marker\":{\"colorbar\":{\"outlinewidth\":0,\"ticks\":\"\"}}}],\"scattercarpet\":[{\"type\":\"scattercarpet\",\"marker\":{\"colorbar\":{\"outlinewidth\":0,\"ticks\":\"\"}}}],\"carpet\":[{\"aaxis\":{\"endlinecolor\":\"#2a3f5f\",\"gridcolor\":\"white\",\"linecolor\":\"white\",\"minorgridcolor\":\"white\",\"startlinecolor\":\"#2a3f5f\"},\"baxis\":{\"endlinecolor\":\"#2a3f5f\",\"gridcolor\":\"white\",\"linecolor\":\"white\",\"minorgridcolor\":\"white\",\"startlinecolor\":\"#2a3f5f\"},\"type\":\"carpet\"}],\"table\":[{\"cells\":{\"fill\":{\"color\":\"#EBF0F8\"},\"line\":{\"color\":\"white\"}},\"header\":{\"fill\":{\"color\":\"#C8D4E3\"},\"line\":{\"color\":\"white\"}},\"type\":\"table\"}],\"barpolar\":[{\"marker\":{\"line\":{\"color\":\"#E5ECF6\",\"width\":0.5},\"pattern\":{\"fillmode\":\"overlay\",\"size\":10,\"solidity\":0.2}},\"type\":\"barpolar\"}],\"pie\":[{\"automargin\":true,\"type\":\"pie\"}]},\"layout\":{\"autotypenumbers\":\"strict\",\"colorway\":[\"#636efa\",\"#EF553B\",\"#00cc96\",\"#ab63fa\",\"#FFA15A\",\"#19d3f3\",\"#FF6692\",\"#B6E880\",\"#FF97FF\",\"#FECB52\"],\"font\":{\"color\":\"#2a3f5f\"},\"hovermode\":\"closest\",\"hoverlabel\":{\"align\":\"left\"},\"paper_bgcolor\":\"white\",\"plot_bgcolor\":\"#E5ECF6\",\"polar\":{\"bgcolor\":\"#E5ECF6\",\"angularaxis\":{\"gridcolor\":\"white\",\"linecolor\":\"white\",\"ticks\":\"\"},\"radialaxis\":{\"gridcolor\":\"white\",\"linecolor\":\"white\",\"ticks\":\"\"}},\"ternary\":{\"bgcolor\":\"#E5ECF6\",\"aaxis\":{\"gridcolor\":\"white\",\"linecolor\":\"white\",\"ticks\":\"\"},\"baxis\":{\"gridcolor\":\"white\",\"linecolor\":\"white\",\"ticks\":\"\"},\"caxis\":{\"gridcolor\":\"white\",\"linecolor\":\"white\",\"ticks\":\"\"}},\"coloraxis\":{\"colorbar\":{\"outlinewidth\":0,\"ticks\":\"\"}},\"colorscale\":{\"sequential\":[[0.0,\"#0d0887\"],[0.1111111111111111,\"#46039f\"],[0.2222222222222222,\"#7201a8\"],[0.3333333333333333,\"#9c179e\"],[0.4444444444444444,\"#bd3786\"],[0.5555555555555556,\"#d8576b\"],[0.6666666666666666,\"#ed7953\"],[0.7777777777777778,\"#fb9f3a\"],[0.8888888888888888,\"#fdca26\"],[1.0,\"#f0f921\"]],\"sequentialminus\":[[0.0,\"#0d0887\"],[0.1111111111111111,\"#46039f\"],[0.2222222222222222,\"#7201a8\"],[0.3333333333333333,\"#9c179e\"],[0.4444444444444444,\"#bd3786\"],[0.5555555555555556,\"#d8576b\"],[0.6666666666666666,\"#ed7953\"],[0.7777777777777778,\"#fb9f3a\"],[0.8888888888888888,\"#fdca26\"],[1.0,\"#f0f921\"]],\"diverging\":[[0,\"#8e0152\"],[0.1,\"#c51b7d\"],[0.2,\"#de77ae\"],[0.3,\"#f1b6da\"],[0.4,\"#fde0ef\"],[0.5,\"#f7f7f7\"],[0.6,\"#e6f5d0\"],[0.7,\"#b8e186\"],[0.8,\"#7fbc41\"],[0.9,\"#4d9221\"],[1,\"#276419\"]]},\"xaxis\":{\"gridcolor\":\"white\",\"linecolor\":\"white\",\"ticks\":\"\",\"title\":{\"standoff\":15},\"zerolinecolor\":\"white\",\"automargin\":true,\"zerolinewidth\":2},\"yaxis\":{\"gridcolor\":\"white\",\"linecolor\":\"white\",\"ticks\":\"\",\"title\":{\"standoff\":15},\"zerolinecolor\":\"white\",\"automargin\":true,\"zerolinewidth\":2},\"scene\":{\"xaxis\":{\"backgroundcolor\":\"#E5ECF6\",\"gridcolor\":\"white\",\"linecolor\":\"white\",\"showbackground\":true,\"ticks\":\"\",\"zerolinecolor\":\"white\",\"gridwidth\":2},\"yaxis\":{\"backgroundcolor\":\"#E5ECF6\",\"gridcolor\":\"white\",\"linecolor\":\"white\",\"showbackground\":true,\"ticks\":\"\",\"zerolinecolor\":\"white\",\"gridwidth\":2},\"zaxis\":{\"backgroundcolor\":\"#E5ECF6\",\"gridcolor\":\"white\",\"linecolor\":\"white\",\"showbackground\":true,\"ticks\":\"\",\"zerolinecolor\":\"white\",\"gridwidth\":2}},\"shapedefaults\":{\"line\":{\"color\":\"#2a3f5f\"}},\"annotationdefaults\":{\"arrowcolor\":\"#2a3f5f\",\"arrowhead\":0,\"arrowwidth\":1},\"geo\":{\"bgcolor\":\"white\",\"landcolor\":\"#E5ECF6\",\"subunitcolor\":\"white\",\"showland\":true,\"showlakes\":true,\"lakecolor\":\"white\"},\"title\":{\"x\":0.05},\"mapbox\":{\"style\":\"light\"}}},\"xaxis\":{\"anchor\":\"y\",\"domain\":[0.0,0.94],\"title\":{\"text\":\"Year\"},\"tickmode\":\"linear\",\"tickangle\":45,\"dtick\":1},\"yaxis\":{\"anchor\":\"x\",\"domain\":[0.0,1.0],\"title\":{\"font\":{\"color\":\"blue\"},\"text\":\"Population\"},\"tickfont\":{\"color\":\"blue\"},\"range\":[16395741.04,18167516.82]},\"yaxis2\":{\"anchor\":\"x\",\"overlaying\":\"y\",\"side\":\"right\",\"title\":{\"font\":{\"color\":\"red\"},\"text\":\"Number of Houses\"},\"tickfont\":{\"color\":\"red\"},\"range\":[7239008.14,8287733.58]},\"title\":{\"text\":\"Population and Number of Houses Over Time\"},\"legend\":{\"x\":0,\"y\":1},\"height\":600},                        {\"responsive\": true}                    ).then(function(){\n",
       "                            \n",
       "var gd = document.getElementById('782d31af-eff0-46e0-82f5-02185a21ceae');\n",
       "var x = new MutationObserver(function (mutations, observer) {{\n",
       "        var display = window.getComputedStyle(gd).display;\n",
       "        if (!display || display === 'none') {{\n",
       "            console.log([gd, 'removed!']);\n",
       "            Plotly.purge(gd);\n",
       "            observer.disconnect();\n",
       "        }}\n",
       "}});\n",
       "\n",
       "// Listen for the removal of the full notebook cells\n",
       "var notebookContainer = gd.closest('#notebook-container');\n",
       "if (notebookContainer) {{\n",
       "    x.observe(notebookContainer, {childList: true});\n",
       "}}\n",
       "\n",
       "// Listen for the clearing of the current output cell\n",
       "var outputEl = gd.closest('.output');\n",
       "if (outputEl) {{\n",
       "    x.observe(outputEl, {childList: true});\n",
       "}}\n",
       "\n",
       "                        })                };                });            </script>        </div>"
      ]
     },
     "metadata": {},
     "output_type": "display_data"
    }
   ],
   "source": [
    "# Create figure with secondary Y-axis\n",
    "fig = make_subplots(specs=[[{\"secondary_y\": True}]])\n",
    "\n",
    "# Add Population (Primary Y-Axis) - Blue Line\n",
    "fig.add_trace(\n",
    "    go.Scatter(\n",
    "        x=df_pop_final[\"Year\"], y=df_pop_final[\"Population\"], \n",
    "        mode='lines', name=\"Population\", line=dict(color='blue'),\n",
    "    ),\n",
    "    secondary_y=False\n",
    ")\n",
    "\n",
    "# Add Number of Houses (Secondary Y-Axis) - Red Line\n",
    "fig.add_trace(\n",
    "    go.Scatter(\n",
    "        x=df_neth_total[\"Year\"], y=df_neth_total[\"Number of Houses\"], \n",
    "        mode='lines', name=\"Number of Houses\", line=dict(color='red', dash='dot'),\n",
    "    ),\n",
    "    secondary_y=True\n",
    ")\n",
    "\n",
    "# Manually Set Y-Axis Ranges to Prevent Misleading Alignment\n",
    "fig.update_yaxes(title_text=\"Population\", title_font=dict(color=\"blue\"), tickfont=dict(color=\"blue\"), \n",
    "                 range=[df_pop_final[\"Population\"].min() * 0.98, df_pop_final[\"Population\"].max() * 1.02], \n",
    "                 secondary_y=False)\n",
    "\n",
    "fig.update_yaxes(title_text=\"Number of Houses\", title_font=dict(color=\"red\"), tickfont=dict(color=\"red\"), \n",
    "                 range=[df_neth_total[\"Number of Houses\"].min() * 0.98, df_neth_total[\"Number of Houses\"].max() * 1.02], \n",
    "                 secondary_y=True)\n",
    "\n",
    "# Show every year & rotate labels\n",
    "fig.update_xaxes(\n",
    "    tickmode=\"linear\",  # Ensures every year is shown\n",
    "    tickangle=45,  # Rotates labels by 45 degrees\n",
    "    dtick=1,  # Ensures tick interval is 1 year\n",
    "    title_text=\"Year\"\n",
    ")\n",
    "\n",
    "# Add Titles and Labels\n",
    "fig.update_layout(\n",
    "    title_text=\"Population and Number of Houses Over Time\",\n",
    "    xaxis_title=\"Year\",\n",
    "    legend=dict(x=0, y=1),\n",
    "    height = 600\n",
    ")\n",
    "\n",
    "\n",
    "# Show plot\n",
    "fig.show()"
   ]
  },
  {
   "cell_type": "code",
   "execution_count": null,
   "id": "7e79dc97-df1a-4150-993d-6dba9c796214",
   "metadata": {},
   "outputs": [],
   "source": []
  },
  {
   "cell_type": "code",
   "execution_count": null,
   "id": "03f19d7f-a981-4d48-a5a5-83f9d816b518",
   "metadata": {},
   "outputs": [],
   "source": []
  },
  {
   "cell_type": "code",
   "execution_count": null,
   "id": "dbf0413c-3b05-4c13-a912-3e8a78416454",
   "metadata": {},
   "outputs": [],
   "source": []
  },
  {
   "cell_type": "code",
   "execution_count": null,
   "id": "16da0b5b-a062-4e55-945b-09b4c16265de",
   "metadata": {},
   "outputs": [],
   "source": []
  },
  {
   "cell_type": "code",
   "execution_count": null,
   "id": "25567315-c249-4a35-9224-c8856c8d133c",
   "metadata": {},
   "outputs": [],
   "source": []
  }
 ],
 "metadata": {
  "kernelspec": {
   "display_name": "Python 3 (ipykernel)",
   "language": "python",
   "name": "python3"
  },
  "language_info": {
   "codemirror_mode": {
    "name": "ipython",
    "version": 3
   },
   "file_extension": ".py",
   "mimetype": "text/x-python",
   "name": "python",
   "nbconvert_exporter": "python",
   "pygments_lexer": "ipython3",
   "version": "3.12.3"
  }
 },
 "nbformat": 4,
 "nbformat_minor": 5
}
